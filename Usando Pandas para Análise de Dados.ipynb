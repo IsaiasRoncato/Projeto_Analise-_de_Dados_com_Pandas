{
 "cells": [
  {
   "cell_type": "code",
   "execution_count": null,
   "id": "613e4ce4",
   "metadata": {},
   "outputs": [],
   "source": [
    "import pandas as pd\n",
    "import matplotlib.pyplot as plt\n",
    "import seaborn as sns\n",
    "\n",
    "# Carregar os dados de um arquivo CSV\n",
    "data = pd.read_csv('vendas.csv')\n",
    "\n",
    "# Exibir as primeiras linhas do dataframe\n",
    "print(data.head())\n",
    "\n",
    "# Sumário estatístico\n",
    "print(data.describe())\n",
    "\n",
    "# Contagem de valores únicos por coluna\n",
    "print(data.nunique())\n",
    "\n",
    "# Verificação de valores nulos\n",
    "print(data.isnull().sum())\n",
    "\n",
    "# Filtrando dados específicos (exemplo: vendas acima de 1000)\n",
    "high_sales = data[data['vendas'] > 1000]\n",
    "print(high_sales)\n",
    "\n",
    "# Gráfico de barras das vendas por categoria\n",
    "plt.figure(figsize=(10,6))\n",
    "sns.barplot(x='categoria', y='vendas', data=data)\n",
    "plt.title('Vendas por Categoria')\n",
    "plt.show()\n",
    "\n",
    "# Histograma das vendas\n",
    "plt.figure(figsize=(10,6))\n",
    "sns.histplot(data['vendas'], bins=20, kde=True)\n",
    "plt.title('Distribuição das Vendas')\n",
    "plt.show()\n",
    "\n",
    "# Gráfico de dispersão entre vendas e quantidade\n",
    "plt.figure(figsize=(10,6))\n",
    "sns.scatterplot(x='quantidade', y='vendas', data=data)\n",
    "plt.title('Quantidade vs Vendas')\n",
    "plt.show()\n"
   ]
  }
 ],
 "metadata": {
  "kernelspec": {
   "display_name": "Python 3 (ipykernel)",
   "language": "python",
   "name": "python3"
  },
  "language_info": {
   "codemirror_mode": {
    "name": "ipython",
    "version": 3
   },
   "file_extension": ".py",
   "mimetype": "text/x-python",
   "name": "python",
   "nbconvert_exporter": "python",
   "pygments_lexer": "ipython3",
   "version": "3.11.5"
  }
 },
 "nbformat": 4,
 "nbformat_minor": 5
}
